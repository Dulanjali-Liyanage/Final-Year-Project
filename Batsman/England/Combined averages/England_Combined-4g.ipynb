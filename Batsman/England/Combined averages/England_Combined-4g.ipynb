{
 "cells": [
  {
   "cell_type": "code",
   "execution_count": 1,
   "metadata": {},
   "outputs": [],
   "source": [
    "import numpy as np\n",
    "import pandas as pd"
   ]
  },
  {
   "cell_type": "code",
   "execution_count": 2,
   "metadata": {},
   "outputs": [],
   "source": [
    "#load data file\n",
    "data = pd.read_csv('F:/8TH SEM/CO425-FYP/England/England.csv')"
   ]
  },
  {
   "cell_type": "code",
   "execution_count": 3,
   "metadata": {},
   "outputs": [
    {
     "data": {
      "text/html": [
       "<div>\n",
       "<style scoped>\n",
       "    .dataframe tbody tr th:only-of-type {\n",
       "        vertical-align: middle;\n",
       "    }\n",
       "\n",
       "    .dataframe tbody tr th {\n",
       "        vertical-align: top;\n",
       "    }\n",
       "\n",
       "    .dataframe thead th {\n",
       "        text-align: right;\n",
       "    }\n",
       "</style>\n",
       "<table border=\"1\" class=\"dataframe\">\n",
       "  <thead>\n",
       "    <tr style=\"text-align: right;\">\n",
       "      <th></th>\n",
       "      <th>InnigsID</th>\n",
       "      <th>dn</th>\n",
       "      <th>country</th>\n",
       "      <th>p1</th>\n",
       "      <th>p1-s</th>\n",
       "      <th>p2</th>\n",
       "      <th>p2-s</th>\n",
       "      <th>p3</th>\n",
       "      <th>p3-s</th>\n",
       "      <th>p4</th>\n",
       "      <th>...</th>\n",
       "      <th>p7</th>\n",
       "      <th>p7-s</th>\n",
       "      <th>p8</th>\n",
       "      <th>p8-s</th>\n",
       "      <th>p9</th>\n",
       "      <th>p9-s</th>\n",
       "      <th>p10</th>\n",
       "      <th>p10-s</th>\n",
       "      <th>p11</th>\n",
       "      <th>p11-s</th>\n",
       "    </tr>\n",
       "  </thead>\n",
       "  <tbody>\n",
       "    <tr>\n",
       "      <th>0</th>\n",
       "      <td>1022</td>\n",
       "      <td>DN</td>\n",
       "      <td>England</td>\n",
       "      <td>IR Bell</td>\n",
       "      <td>0</td>\n",
       "      <td>MM Ali</td>\n",
       "      <td>22</td>\n",
       "      <td>JWA Taylor</td>\n",
       "      <td>0</td>\n",
       "      <td>JE Root</td>\n",
       "      <td>...</td>\n",
       "      <td>JC Buttler</td>\n",
       "      <td>28</td>\n",
       "      <td>CR Woakes</td>\n",
       "      <td>8</td>\n",
       "      <td>CJ Jordan</td>\n",
       "      <td>17</td>\n",
       "      <td>SCJ Broad</td>\n",
       "      <td>0</td>\n",
       "      <td>ST Finn</td>\n",
       "      <td>0</td>\n",
       "    </tr>\n",
       "    <tr>\n",
       "      <th>1</th>\n",
       "      <td>1033</td>\n",
       "      <td>DN</td>\n",
       "      <td>England</td>\n",
       "      <td>IR Bell</td>\n",
       "      <td>88</td>\n",
       "      <td>MM Ali</td>\n",
       "      <td>8</td>\n",
       "      <td>JWA Taylor</td>\n",
       "      <td>56</td>\n",
       "      <td>JE Root</td>\n",
       "      <td>...</td>\n",
       "      <td>JC Buttler</td>\n",
       "      <td>0</td>\n",
       "      <td>CR Woakes</td>\n",
       "      <td>0</td>\n",
       "      <td>SCJ Broad</td>\n",
       "      <td>0</td>\n",
       "      <td>JM Anderson</td>\n",
       "      <td>0</td>\n",
       "      <td>ST Finn</td>\n",
       "      <td>0</td>\n",
       "    </tr>\n",
       "    <tr>\n",
       "      <th>2</th>\n",
       "      <td>1040</td>\n",
       "      <td>DN</td>\n",
       "      <td>England</td>\n",
       "      <td>MM Ali</td>\n",
       "      <td>46</td>\n",
       "      <td>IR Bell</td>\n",
       "      <td>141</td>\n",
       "      <td>JWA Taylor</td>\n",
       "      <td>5</td>\n",
       "      <td>JE Root</td>\n",
       "      <td>...</td>\n",
       "      <td>RS Bopara</td>\n",
       "      <td>7</td>\n",
       "      <td>CR Woakes</td>\n",
       "      <td>0</td>\n",
       "      <td>SCJ Broad</td>\n",
       "      <td>0</td>\n",
       "      <td>JM Anderson</td>\n",
       "      <td>0</td>\n",
       "      <td>ST Finn</td>\n",
       "      <td>0</td>\n",
       "    </tr>\n",
       "    <tr>\n",
       "      <th>3</th>\n",
       "      <td>1049</td>\n",
       "      <td>D</td>\n",
       "      <td>England</td>\n",
       "      <td>IR Bell</td>\n",
       "      <td>10</td>\n",
       "      <td>MM Ali</td>\n",
       "      <td>17</td>\n",
       "      <td>JWA Taylor</td>\n",
       "      <td>82</td>\n",
       "      <td>JE Root</td>\n",
       "      <td>...</td>\n",
       "      <td>JC Buttler</td>\n",
       "      <td>67</td>\n",
       "      <td>CR Woakes</td>\n",
       "      <td>4</td>\n",
       "      <td>SCJ Broad</td>\n",
       "      <td>3</td>\n",
       "      <td>JM Anderson</td>\n",
       "      <td>0</td>\n",
       "      <td>ST Finn</td>\n",
       "      <td>0</td>\n",
       "    </tr>\n",
       "    <tr>\n",
       "      <th>4</th>\n",
       "      <td>1054</td>\n",
       "      <td>D</td>\n",
       "      <td>England</td>\n",
       "      <td>MM Ali</td>\n",
       "      <td>26</td>\n",
       "      <td>IR Bell</td>\n",
       "      <td>8</td>\n",
       "      <td>JWA Taylor</td>\n",
       "      <td>4</td>\n",
       "      <td>JE Root</td>\n",
       "      <td>...</td>\n",
       "      <td>JC Buttler</td>\n",
       "      <td>17</td>\n",
       "      <td>CR Woakes</td>\n",
       "      <td>0</td>\n",
       "      <td>SCJ Broad</td>\n",
       "      <td>24</td>\n",
       "      <td>ST Finn</td>\n",
       "      <td>6</td>\n",
       "      <td>JM Anderson</td>\n",
       "      <td>5</td>\n",
       "    </tr>\n",
       "  </tbody>\n",
       "</table>\n",
       "<p>5 rows × 25 columns</p>\n",
       "</div>"
      ],
      "text/plain": [
       "   InnigsID  dn  country       p1  p1-s       p2  p2-s          p3  p3-s  \\\n",
       "0      1022  DN  England  IR Bell     0   MM Ali    22  JWA Taylor     0   \n",
       "1      1033  DN  England  IR Bell    88   MM Ali     8  JWA Taylor    56   \n",
       "2      1040  DN  England   MM Ali    46  IR Bell   141  JWA Taylor     5   \n",
       "3      1049   D  England  IR Bell    10   MM Ali    17  JWA Taylor    82   \n",
       "4      1054   D  England   MM Ali    26  IR Bell     8  JWA Taylor     4   \n",
       "\n",
       "        p4  ...          p7 p7-s         p8 p8-s         p9 p9-s          p10  \\\n",
       "0  JE Root  ...  JC Buttler   28  CR Woakes    8  CJ Jordan   17    SCJ Broad   \n",
       "1  JE Root  ...  JC Buttler    0  CR Woakes    0  SCJ Broad    0  JM Anderson   \n",
       "2  JE Root  ...   RS Bopara    7  CR Woakes    0  SCJ Broad    0  JM Anderson   \n",
       "3  JE Root  ...  JC Buttler   67  CR Woakes    4  SCJ Broad    3  JM Anderson   \n",
       "4  JE Root  ...  JC Buttler   17  CR Woakes    0  SCJ Broad   24      ST Finn   \n",
       "\n",
       "  p10-s          p11 p11-s  \n",
       "0     0      ST Finn     0  \n",
       "1     0      ST Finn     0  \n",
       "2     0      ST Finn     0  \n",
       "3     0      ST Finn     0  \n",
       "4     6  JM Anderson     5  \n",
       "\n",
       "[5 rows x 25 columns]"
      ]
     },
     "execution_count": 3,
     "metadata": {},
     "output_type": "execute_result"
    }
   ],
   "source": [
    "data.head()"
   ]
  },
  {
   "cell_type": "code",
   "execution_count": 4,
   "metadata": {},
   "outputs": [],
   "source": [
    "x = set()"
   ]
  },
  {
   "cell_type": "code",
   "execution_count": 5,
   "metadata": {},
   "outputs": [],
   "source": [
    "players = ['p1','p2','p3','p4','p5','p6','p7','p8','p9','p10','p11']\n",
    "player_scores = ['p1-s','p2-s','p3-s','p4-s','p5-s','p6-s','p7-s','p8-s','p9-s','p10-s','p11-s']"
   ]
  },
  {
   "cell_type": "code",
   "execution_count": 6,
   "metadata": {},
   "outputs": [],
   "source": [
    "for i in players:\n",
    "    for j in range(len(data[i].unique())):\n",
    "        x.add(data[i].unique()[j])"
   ]
  },
  {
   "cell_type": "code",
   "execution_count": 7,
   "metadata": {},
   "outputs": [
    {
     "name": "stdout",
     "output_type": "stream",
     "text": [
      "{'TS Roland-Jones', 'DJ Willey', 'CR Woakes', 'JC Buttler', 'JWA Taylor', 'LA Dawson', 'AU Rashid', 'EJG Morgan', 'SM Curran', 'RJW Topley', 'DJ Malan', 'MA Wood', 'BM Duckett', 'IR Bell', 'C Overton', 'JC Tredwell', 'CJ Jordan', 'RS Bopara', 'JM Bairstow', 'JT Ball', 'SW Billings', 'AD Hales', 'BA Stokes', 'GS Ballance', 'JC Archer', 'MM Ali', 'JE Root', 'BT Foakes', 'JJ Roy', 'T Banton', 'LE Plunkett', 'JL Denly', 'TK Curran', 'S Mahmood', 'JM Anderson', 'OP Stone', 'MW Parkinson', 'ST Finn', 'SCJ Broad', 'JM Vince'}\n"
     ]
    },
    {
     "data": {
      "text/plain": [
       "40"
      ]
     },
     "execution_count": 7,
     "metadata": {},
     "output_type": "execute_result"
    }
   ],
   "source": [
    "print(x)\n",
    "len(x)"
   ]
  },
  {
   "cell_type": "code",
   "execution_count": 8,
   "metadata": {},
   "outputs": [],
   "source": [
    "import itertools \n",
    "# def findsubsets(s, n): \n",
    "def findsubsets(s, n): \n",
    "    return [set(i) for i in itertools.combinations(s, n)] "
   ]
  },
  {
   "cell_type": "code",
   "execution_count": 9,
   "metadata": {},
   "outputs": [],
   "source": [
    "# print(findsubsets(x,2))"
   ]
  },
  {
   "cell_type": "code",
   "execution_count": 10,
   "metadata": {},
   "outputs": [],
   "source": [
    "# len(findsubsets(x,2))"
   ]
  },
  {
   "cell_type": "code",
   "execution_count": 11,
   "metadata": {},
   "outputs": [],
   "source": [
    "# print(findsubsets(x,3))"
   ]
  },
  {
   "cell_type": "code",
   "execution_count": 12,
   "metadata": {},
   "outputs": [],
   "source": [
    "# len(findsubsets(x,3))"
   ]
  },
  {
   "cell_type": "code",
   "execution_count": 13,
   "metadata": {},
   "outputs": [],
   "source": [
    "# print(findsubsets(x,4))"
   ]
  },
  {
   "cell_type": "code",
   "execution_count": 14,
   "metadata": {},
   "outputs": [
    {
     "data": {
      "text/plain": [
       "91390"
      ]
     },
     "execution_count": 14,
     "metadata": {},
     "output_type": "execute_result"
    }
   ],
   "source": [
    "len(findsubsets(x,4))"
   ]
  },
  {
   "cell_type": "code",
   "execution_count": 15,
   "metadata": {},
   "outputs": [],
   "source": [
    "# len(findsubsets(x,5))"
   ]
  },
  {
   "cell_type": "code",
   "execution_count": 16,
   "metadata": {},
   "outputs": [],
   "source": [
    "# sub = findsubsets(x,2)\n",
    "# sub = findsubsets(x,3)\n",
    "sub = findsubsets(x,4)"
   ]
  },
  {
   "cell_type": "code",
   "execution_count": 17,
   "metadata": {},
   "outputs": [],
   "source": [
    "# column_names = [\"player-1\", \"player-2\", \"avg\"]\n",
    "# column_names = [\"player-1\", \"player-2\",\"player-3\", \"avg\"]\n",
    "column_names = [\"player-1\", \"player-2\",\"player-3\",\"player-4\", \"avg\"]\n",
    "\n",
    "result_grams = pd.DataFrame(columns = column_names)"
   ]
  },
  {
   "cell_type": "code",
   "execution_count": 18,
   "metadata": {},
   "outputs": [],
   "source": [
    "for t in sub:\n",
    "    new_list = list(t)\n",
    "    df = data[np.equal.outer(data.to_numpy(copy=False),  new_list).any(axis=1).all(axis=1)]\n",
    "    count = 0;\n",
    "    df = df.reset_index(drop=True)\n",
    "    isempty = df.empty\n",
    "    if(isempty):\n",
    "        result_grams = result_grams.append({'player-1':new_list[0], 'player-2':new_list[1],'player-3':new_list[2],'player-4':new_list[3], 'avg':0.0}, ignore_index=True)\n",
    "        continue\n",
    "    for index, row in df.iterrows():\n",
    "        for ind, p in enumerate(players):\n",
    "                if(df.iloc[index][p] == new_list[0] ):\n",
    "                    count = count + df.iloc[index][player_scores[ind]]\n",
    "                if(df.iloc[index][p] == new_list[1] ):\n",
    "                    count = count + df.iloc[index][player_scores[ind]]\n",
    "                if(df.iloc[index][p] == new_list[2] ):\n",
    "                    count = count + df.iloc[index][player_scores[ind]]\n",
    "                if(df.iloc[index][p] == new_list[3] ):\n",
    "                    count = count + df.iloc[index][player_scores[ind]]\n",
    "    avg = count/df.shape[0]\n",
    "    result_grams = result_grams.append({'player-1':new_list[0], 'player-2':new_list[1], 'player-3':new_list[2],'player-4':new_list[3], 'avg':avg}, ignore_index=True)"
   ]
  },
  {
   "cell_type": "code",
   "execution_count": 19,
   "metadata": {},
   "outputs": [
    {
     "data": {
      "text/html": [
       "<div>\n",
       "<style scoped>\n",
       "    .dataframe tbody tr th:only-of-type {\n",
       "        vertical-align: middle;\n",
       "    }\n",
       "\n",
       "    .dataframe tbody tr th {\n",
       "        vertical-align: top;\n",
       "    }\n",
       "\n",
       "    .dataframe thead th {\n",
       "        text-align: right;\n",
       "    }\n",
       "</style>\n",
       "<table border=\"1\" class=\"dataframe\">\n",
       "  <thead>\n",
       "    <tr style=\"text-align: right;\">\n",
       "      <th></th>\n",
       "      <th>player-1</th>\n",
       "      <th>player-2</th>\n",
       "      <th>player-3</th>\n",
       "      <th>player-4</th>\n",
       "      <th>avg</th>\n",
       "    </tr>\n",
       "  </thead>\n",
       "  <tbody>\n",
       "    <tr>\n",
       "      <th>0</th>\n",
       "      <td>TS Roland-Jones</td>\n",
       "      <td>DJ Willey</td>\n",
       "      <td>CR Woakes</td>\n",
       "      <td>JC Buttler</td>\n",
       "      <td>0.0</td>\n",
       "    </tr>\n",
       "    <tr>\n",
       "      <th>1</th>\n",
       "      <td>TS Roland-Jones</td>\n",
       "      <td>DJ Willey</td>\n",
       "      <td>JWA Taylor</td>\n",
       "      <td>CR Woakes</td>\n",
       "      <td>0.0</td>\n",
       "    </tr>\n",
       "    <tr>\n",
       "      <th>2</th>\n",
       "      <td>TS Roland-Jones</td>\n",
       "      <td>DJ Willey</td>\n",
       "      <td>CR Woakes</td>\n",
       "      <td>LA Dawson</td>\n",
       "      <td>0.0</td>\n",
       "    </tr>\n",
       "    <tr>\n",
       "      <th>3</th>\n",
       "      <td>TS Roland-Jones</td>\n",
       "      <td>DJ Willey</td>\n",
       "      <td>AU Rashid</td>\n",
       "      <td>CR Woakes</td>\n",
       "      <td>0.0</td>\n",
       "    </tr>\n",
       "    <tr>\n",
       "      <th>4</th>\n",
       "      <td>TS Roland-Jones</td>\n",
       "      <td>DJ Willey</td>\n",
       "      <td>CR Woakes</td>\n",
       "      <td>EJG Morgan</td>\n",
       "      <td>0.0</td>\n",
       "    </tr>\n",
       "    <tr>\n",
       "      <th>...</th>\n",
       "      <td>...</td>\n",
       "      <td>...</td>\n",
       "      <td>...</td>\n",
       "      <td>...</td>\n",
       "      <td>...</td>\n",
       "    </tr>\n",
       "    <tr>\n",
       "      <th>95</th>\n",
       "      <td>TS Roland-Jones</td>\n",
       "      <td>DJ Willey</td>\n",
       "      <td>JWA Taylor</td>\n",
       "      <td>BT Foakes</td>\n",
       "      <td>0.0</td>\n",
       "    </tr>\n",
       "    <tr>\n",
       "      <th>96</th>\n",
       "      <td>JJ Roy</td>\n",
       "      <td>TS Roland-Jones</td>\n",
       "      <td>DJ Willey</td>\n",
       "      <td>JWA Taylor</td>\n",
       "      <td>0.0</td>\n",
       "    </tr>\n",
       "    <tr>\n",
       "      <th>97</th>\n",
       "      <td>TS Roland-Jones</td>\n",
       "      <td>DJ Willey</td>\n",
       "      <td>JWA Taylor</td>\n",
       "      <td>T Banton</td>\n",
       "      <td>0.0</td>\n",
       "    </tr>\n",
       "    <tr>\n",
       "      <th>98</th>\n",
       "      <td>TS Roland-Jones</td>\n",
       "      <td>DJ Willey</td>\n",
       "      <td>JWA Taylor</td>\n",
       "      <td>LE Plunkett</td>\n",
       "      <td>0.0</td>\n",
       "    </tr>\n",
       "    <tr>\n",
       "      <th>99</th>\n",
       "      <td>TS Roland-Jones</td>\n",
       "      <td>DJ Willey</td>\n",
       "      <td>JL Denly</td>\n",
       "      <td>JWA Taylor</td>\n",
       "      <td>0.0</td>\n",
       "    </tr>\n",
       "  </tbody>\n",
       "</table>\n",
       "<p>100 rows × 5 columns</p>\n",
       "</div>"
      ],
      "text/plain": [
       "           player-1         player-2    player-3     player-4  avg\n",
       "0   TS Roland-Jones        DJ Willey   CR Woakes   JC Buttler  0.0\n",
       "1   TS Roland-Jones        DJ Willey  JWA Taylor    CR Woakes  0.0\n",
       "2   TS Roland-Jones        DJ Willey   CR Woakes    LA Dawson  0.0\n",
       "3   TS Roland-Jones        DJ Willey   AU Rashid    CR Woakes  0.0\n",
       "4   TS Roland-Jones        DJ Willey   CR Woakes   EJG Morgan  0.0\n",
       "..              ...              ...         ...          ...  ...\n",
       "95  TS Roland-Jones        DJ Willey  JWA Taylor    BT Foakes  0.0\n",
       "96           JJ Roy  TS Roland-Jones   DJ Willey   JWA Taylor  0.0\n",
       "97  TS Roland-Jones        DJ Willey  JWA Taylor     T Banton  0.0\n",
       "98  TS Roland-Jones        DJ Willey  JWA Taylor  LE Plunkett  0.0\n",
       "99  TS Roland-Jones        DJ Willey    JL Denly   JWA Taylor  0.0\n",
       "\n",
       "[100 rows x 5 columns]"
      ]
     },
     "execution_count": 19,
     "metadata": {},
     "output_type": "execute_result"
    }
   ],
   "source": [
    "result_grams.head(100)"
   ]
  },
  {
   "cell_type": "code",
   "execution_count": 20,
   "metadata": {},
   "outputs": [],
   "source": [
    "result_grams.to_csv('F:/8TH SEM/CO425-FYP/England/Combined averages/England_4g.csv',sep=',')        "
   ]
  }
 ],
 "metadata": {
  "kernelspec": {
   "display_name": "Python 3",
   "language": "python",
   "name": "python3"
  },
  "language_info": {
   "codemirror_mode": {
    "name": "ipython",
    "version": 3
   },
   "file_extension": ".py",
   "mimetype": "text/x-python",
   "name": "python",
   "nbconvert_exporter": "python",
   "pygments_lexer": "ipython3",
   "version": "3.8.2"
  }
 },
 "nbformat": 4,
 "nbformat_minor": 4
}
