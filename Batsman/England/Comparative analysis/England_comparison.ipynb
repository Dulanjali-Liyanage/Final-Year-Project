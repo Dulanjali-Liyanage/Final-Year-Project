{
 "cells": [
  {
   "cell_type": "code",
   "execution_count": 1,
   "metadata": {},
   "outputs": [],
   "source": [
    "import numpy as np\n",
    "import pandas as pd"
   ]
  },
  {
   "cell_type": "markdown",
   "metadata": {},
   "source": [
    "# Finding individual averages of batsmen"
   ]
  },
  {
   "cell_type": "code",
   "execution_count": 3,
   "metadata": {},
   "outputs": [],
   "source": [
    "#load data file\n",
    "data = pd.read_csv('F:/8TH SEM/CO425-FYP/England/England.csv')"
   ]
  },
  {
   "cell_type": "code",
   "execution_count": 4,
   "metadata": {},
   "outputs": [
    {
     "data": {
      "text/html": [
       "<div>\n",
       "<style scoped>\n",
       "    .dataframe tbody tr th:only-of-type {\n",
       "        vertical-align: middle;\n",
       "    }\n",
       "\n",
       "    .dataframe tbody tr th {\n",
       "        vertical-align: top;\n",
       "    }\n",
       "\n",
       "    .dataframe thead th {\n",
       "        text-align: right;\n",
       "    }\n",
       "</style>\n",
       "<table border=\"1\" class=\"dataframe\">\n",
       "  <thead>\n",
       "    <tr style=\"text-align: right;\">\n",
       "      <th></th>\n",
       "      <th>InnigsID</th>\n",
       "      <th>dn</th>\n",
       "      <th>country</th>\n",
       "      <th>p1</th>\n",
       "      <th>p1-s</th>\n",
       "      <th>p2</th>\n",
       "      <th>p2-s</th>\n",
       "      <th>p3</th>\n",
       "      <th>p3-s</th>\n",
       "      <th>p4</th>\n",
       "      <th>...</th>\n",
       "      <th>p7</th>\n",
       "      <th>p7-s</th>\n",
       "      <th>p8</th>\n",
       "      <th>p8-s</th>\n",
       "      <th>p9</th>\n",
       "      <th>p9-s</th>\n",
       "      <th>p10</th>\n",
       "      <th>p10-s</th>\n",
       "      <th>p11</th>\n",
       "      <th>p11-s</th>\n",
       "    </tr>\n",
       "  </thead>\n",
       "  <tbody>\n",
       "    <tr>\n",
       "      <th>0</th>\n",
       "      <td>1022</td>\n",
       "      <td>DN</td>\n",
       "      <td>England</td>\n",
       "      <td>IR Bell</td>\n",
       "      <td>0</td>\n",
       "      <td>MM Ali</td>\n",
       "      <td>22</td>\n",
       "      <td>JWA Taylor</td>\n",
       "      <td>0</td>\n",
       "      <td>JE Root</td>\n",
       "      <td>...</td>\n",
       "      <td>JC Buttler</td>\n",
       "      <td>28</td>\n",
       "      <td>CR Woakes</td>\n",
       "      <td>8</td>\n",
       "      <td>CJ Jordan</td>\n",
       "      <td>17</td>\n",
       "      <td>SCJ Broad</td>\n",
       "      <td>0</td>\n",
       "      <td>ST Finn</td>\n",
       "      <td>0</td>\n",
       "    </tr>\n",
       "    <tr>\n",
       "      <th>1</th>\n",
       "      <td>1033</td>\n",
       "      <td>DN</td>\n",
       "      <td>England</td>\n",
       "      <td>IR Bell</td>\n",
       "      <td>88</td>\n",
       "      <td>MM Ali</td>\n",
       "      <td>8</td>\n",
       "      <td>JWA Taylor</td>\n",
       "      <td>56</td>\n",
       "      <td>JE Root</td>\n",
       "      <td>...</td>\n",
       "      <td>JC Buttler</td>\n",
       "      <td>0</td>\n",
       "      <td>CR Woakes</td>\n",
       "      <td>0</td>\n",
       "      <td>SCJ Broad</td>\n",
       "      <td>0</td>\n",
       "      <td>JM Anderson</td>\n",
       "      <td>0</td>\n",
       "      <td>ST Finn</td>\n",
       "      <td>0</td>\n",
       "    </tr>\n",
       "    <tr>\n",
       "      <th>2</th>\n",
       "      <td>1040</td>\n",
       "      <td>DN</td>\n",
       "      <td>England</td>\n",
       "      <td>MM Ali</td>\n",
       "      <td>46</td>\n",
       "      <td>IR Bell</td>\n",
       "      <td>141</td>\n",
       "      <td>JWA Taylor</td>\n",
       "      <td>5</td>\n",
       "      <td>JE Root</td>\n",
       "      <td>...</td>\n",
       "      <td>RS Bopara</td>\n",
       "      <td>7</td>\n",
       "      <td>CR Woakes</td>\n",
       "      <td>0</td>\n",
       "      <td>SCJ Broad</td>\n",
       "      <td>0</td>\n",
       "      <td>JM Anderson</td>\n",
       "      <td>0</td>\n",
       "      <td>ST Finn</td>\n",
       "      <td>0</td>\n",
       "    </tr>\n",
       "    <tr>\n",
       "      <th>3</th>\n",
       "      <td>1049</td>\n",
       "      <td>D</td>\n",
       "      <td>England</td>\n",
       "      <td>IR Bell</td>\n",
       "      <td>10</td>\n",
       "      <td>MM Ali</td>\n",
       "      <td>17</td>\n",
       "      <td>JWA Taylor</td>\n",
       "      <td>82</td>\n",
       "      <td>JE Root</td>\n",
       "      <td>...</td>\n",
       "      <td>JC Buttler</td>\n",
       "      <td>67</td>\n",
       "      <td>CR Woakes</td>\n",
       "      <td>4</td>\n",
       "      <td>SCJ Broad</td>\n",
       "      <td>3</td>\n",
       "      <td>JM Anderson</td>\n",
       "      <td>0</td>\n",
       "      <td>ST Finn</td>\n",
       "      <td>0</td>\n",
       "    </tr>\n",
       "    <tr>\n",
       "      <th>4</th>\n",
       "      <td>1054</td>\n",
       "      <td>D</td>\n",
       "      <td>England</td>\n",
       "      <td>MM Ali</td>\n",
       "      <td>26</td>\n",
       "      <td>IR Bell</td>\n",
       "      <td>8</td>\n",
       "      <td>JWA Taylor</td>\n",
       "      <td>4</td>\n",
       "      <td>JE Root</td>\n",
       "      <td>...</td>\n",
       "      <td>JC Buttler</td>\n",
       "      <td>17</td>\n",
       "      <td>CR Woakes</td>\n",
       "      <td>0</td>\n",
       "      <td>SCJ Broad</td>\n",
       "      <td>24</td>\n",
       "      <td>ST Finn</td>\n",
       "      <td>6</td>\n",
       "      <td>JM Anderson</td>\n",
       "      <td>5</td>\n",
       "    </tr>\n",
       "  </tbody>\n",
       "</table>\n",
       "<p>5 rows × 25 columns</p>\n",
       "</div>"
      ],
      "text/plain": [
       "   InnigsID  dn  country       p1  p1-s       p2  p2-s          p3  p3-s  \\\n",
       "0      1022  DN  England  IR Bell     0   MM Ali    22  JWA Taylor     0   \n",
       "1      1033  DN  England  IR Bell    88   MM Ali     8  JWA Taylor    56   \n",
       "2      1040  DN  England   MM Ali    46  IR Bell   141  JWA Taylor     5   \n",
       "3      1049   D  England  IR Bell    10   MM Ali    17  JWA Taylor    82   \n",
       "4      1054   D  England   MM Ali    26  IR Bell     8  JWA Taylor     4   \n",
       "\n",
       "        p4  ...          p7 p7-s         p8 p8-s         p9 p9-s          p10  \\\n",
       "0  JE Root  ...  JC Buttler   28  CR Woakes    8  CJ Jordan   17    SCJ Broad   \n",
       "1  JE Root  ...  JC Buttler    0  CR Woakes    0  SCJ Broad    0  JM Anderson   \n",
       "2  JE Root  ...   RS Bopara    7  CR Woakes    0  SCJ Broad    0  JM Anderson   \n",
       "3  JE Root  ...  JC Buttler   67  CR Woakes    4  SCJ Broad    3  JM Anderson   \n",
       "4  JE Root  ...  JC Buttler   17  CR Woakes    0  SCJ Broad   24      ST Finn   \n",
       "\n",
       "  p10-s          p11 p11-s  \n",
       "0     0      ST Finn     0  \n",
       "1     0      ST Finn     0  \n",
       "2     0      ST Finn     0  \n",
       "3     0      ST Finn     0  \n",
       "4     6  JM Anderson     5  \n",
       "\n",
       "[5 rows x 25 columns]"
      ]
     },
     "execution_count": 4,
     "metadata": {},
     "output_type": "execute_result"
    }
   ],
   "source": [
    "data.head()"
   ]
  },
  {
   "cell_type": "code",
   "execution_count": 5,
   "metadata": {},
   "outputs": [],
   "source": [
    "players = ['p1','p2','p3','p4','p5','p6','p7','p8','p9','p10','p11']\n",
    "player_scores = ['p1-s','p2-s','p3-s','p4-s','p5-s','p6-s','p7-s','p8-s','p9-s','p10-s','p11-s']"
   ]
  },
  {
   "cell_type": "code",
   "execution_count": 6,
   "metadata": {},
   "outputs": [],
   "source": [
    "x = set()"
   ]
  },
  {
   "cell_type": "code",
   "execution_count": 7,
   "metadata": {},
   "outputs": [],
   "source": [
    "# finding unique players\n",
    "for i in players:\n",
    "    for j in range(len(data[i].unique())):\n",
    "        x.add(data[i].unique()[j])"
   ]
  },
  {
   "cell_type": "code",
   "execution_count": 8,
   "metadata": {},
   "outputs": [
    {
     "name": "stdout",
     "output_type": "stream",
     "text": [
      "{'MW Parkinson', 'JC Buttler', 'JC Tredwell', 'JL Denly', 'AU Rashid', 'ST Finn', 'TK Curran', 'S Mahmood', 'RJW Topley', 'MA Wood', 'LE Plunkett', 'MM Ali', 'TS Roland-Jones', 'T Banton', 'IR Bell', 'CR Woakes', 'BM Duckett', 'SW Billings', 'JM Bairstow', 'C Overton', 'OP Stone', 'SM Curran', 'DJ Malan', 'BA Stokes', 'JC Archer', 'RS Bopara', 'BT Foakes', 'JE Root', 'JT Ball', 'JWA Taylor', 'JJ Roy', 'JM Vince', 'AD Hales', 'SCJ Broad', 'DJ Willey', 'EJG Morgan', 'JM Anderson', 'CJ Jordan', 'GS Ballance', 'LA Dawson'}\n"
     ]
    }
   ],
   "source": [
    "print(x)"
   ]
  },
  {
   "cell_type": "code",
   "execution_count": 9,
   "metadata": {},
   "outputs": [
    {
     "data": {
      "text/plain": [
       "40"
      ]
     },
     "execution_count": 9,
     "metadata": {},
     "output_type": "execute_result"
    }
   ],
   "source": [
    "len(x)"
   ]
  },
  {
   "cell_type": "code",
   "execution_count": 10,
   "metadata": {},
   "outputs": [
    {
     "name": "stdout",
     "output_type": "stream",
     "text": [
      "['MW Parkinson', 'JC Buttler', 'JC Tredwell', 'JL Denly', 'AU Rashid', 'ST Finn', 'TK Curran', 'S Mahmood', 'RJW Topley', 'MA Wood', 'LE Plunkett', 'MM Ali', 'TS Roland-Jones', 'T Banton', 'IR Bell', 'CR Woakes', 'BM Duckett', 'SW Billings', 'JM Bairstow', 'C Overton', 'OP Stone', 'SM Curran', 'DJ Malan', 'BA Stokes', 'JC Archer', 'RS Bopara', 'BT Foakes', 'JE Root', 'JT Ball', 'JWA Taylor', 'JJ Roy', 'JM Vince', 'AD Hales', 'SCJ Broad', 'DJ Willey', 'EJG Morgan', 'JM Anderson', 'CJ Jordan', 'GS Ballance', 'LA Dawson']\n"
     ]
    }
   ],
   "source": [
    "#set -> list\n",
    "unique_list = list(x)\n",
    "print(unique_list)    "
   ]
  },
  {
   "cell_type": "code",
   "execution_count": 11,
   "metadata": {},
   "outputs": [],
   "source": [
    "column_names = [\"player_name\", \"sum\", \"avg\"]\n",
    "\n",
    "result = pd.DataFrame(columns = column_names)"
   ]
  },
  {
   "cell_type": "code",
   "execution_count": 12,
   "metadata": {},
   "outputs": [
    {
     "name": "stdout",
     "output_type": "stream",
     "text": [
      "MW Parkinson  : sum= 0  , count= 1  , average= 0.0\n",
      "JC Buttler  : sum= 2677  , count= 93  , average= 28.78\n",
      "JC Tredwell  : sum= 0  , count= 1  , average= 0.0\n",
      "JL Denly  : sum= 178  , count= 5  , average= 35.6\n",
      "AU Rashid  : sum= 579  , count= 92  , average= 6.29\n",
      "ST Finn  : sum= 29  , count= 20  , average= 1.45\n",
      "TK Curran  : sum= 292  , count= 23  , average= 12.7\n",
      "S Mahmood  : sum= 12  , count= 4  , average= 3.0\n",
      "RJW Topley  : sum= 7  , count= 11  , average= 0.64\n",
      "MA Wood  : sum= 55  , count= 49  , average= 1.12\n",
      "LE Plunkett  : sum= 252  , count= 53  , average= 4.75\n",
      "MM Ali  : sum= 1188  , count= 88  , average= 13.5\n",
      "TS Roland-Jones  : sum= 37  , count= 1  , average= 37.0\n",
      "T Banton  : sum= 134  , count= 5  , average= 26.8\n",
      "IR Bell  : sum= 455  , count= 10  , average= 45.5\n",
      "CR Woakes  : sum= 919  , count= 71  , average= 12.94\n",
      "BM Duckett  : sum= 123  , count= 3  , average= 41.0\n",
      "SW Billings  : sum= 574  , count= 20  , average= 28.7\n",
      "JM Bairstow  : sum= 2910  , count= 66  , average= 44.09\n",
      "C Overton  : sum= 0  , count= 1  , average= 0.0\n",
      "OP Stone  : sum= 9  , count= 3  , average= 3.0\n",
      "SM Curran  : sum= 25  , count= 4  , average= 6.25\n",
      "DJ Malan  : sum= 24  , count= 1  , average= 24.0\n",
      "BA Stokes  : sum= 2316  , count= 67  , average= 34.57\n",
      "JC Archer  : sum= 27  , count= 15  , average= 1.8\n",
      "RS Bopara  : sum= 57  , count= 6  , average= 9.5\n",
      "BT Foakes  : sum= 61  , count= 1  , average= 61.0\n",
      "JE Root  : sum= 4389  , count= 96  , average= 45.72\n",
      "JT Ball  : sum= 38  , count= 18  , average= 2.11\n",
      "JWA Taylor  : sum= 674  , count= 19  , average= 35.47\n",
      "JJ Roy  : sum= 3400  , count= 85  , average= 40.0\n",
      "JM Vince  : sum= 322  , count= 14  , average= 23.0\n",
      "AD Hales  : sum= 2227  , count= 57  , average= 39.07\n",
      "SCJ Broad  : sum= 59  , count= 12  , average= 4.92\n",
      "DJ Willey  : sum= 363  , count= 44  , average= 8.25\n",
      "EJG Morgan  : sum= 3741  , count= 102  , average= 36.68\n",
      "JM Anderson  : sum= 14  , count= 9  , average= 1.56\n",
      "CJ Jordan  : sum= 55  , count= 13  , average= 4.23\n",
      "GS Ballance  : sum= 26  , count= 3  , average= 8.67\n",
      "LA Dawson  : sum= 14  , count= 2  , average= 7.0\n",
      "{'MW Parkinson': 0.0, 'JC Buttler': 28.78, 'JC Tredwell': 0.0, 'JL Denly': 35.6, 'AU Rashid': 6.29, 'ST Finn': 1.45, 'TK Curran': 12.7, 'S Mahmood': 3.0, 'RJW Topley': 0.64, 'MA Wood': 1.12, 'LE Plunkett': 4.75, 'MM Ali': 13.5, 'TS Roland-Jones': 37.0, 'T Banton': 26.8, 'IR Bell': 45.5, 'CR Woakes': 12.94, 'BM Duckett': 41.0, 'SW Billings': 28.7, 'JM Bairstow': 44.09, 'C Overton': 0.0, 'OP Stone': 3.0, 'SM Curran': 6.25, 'DJ Malan': 24.0, 'BA Stokes': 34.57, 'JC Archer': 1.8, 'RS Bopara': 9.5, 'BT Foakes': 61.0, 'JE Root': 45.72, 'JT Ball': 2.11, 'JWA Taylor': 35.47, 'JJ Roy': 40.0, 'JM Vince': 23.0, 'AD Hales': 39.07, 'SCJ Broad': 4.92, 'DJ Willey': 8.25, 'EJG Morgan': 36.68, 'JM Anderson': 1.56, 'CJ Jordan': 4.23, 'GS Ballance': 8.67, 'LA Dawson': 7.0}\n"
     ]
    }
   ],
   "source": [
    "# finding the individual averages of players=> total score/no.of matches played\n",
    "dictionary = dict()\n",
    "\n",
    "for indx, name in enumerate(unique_list):\n",
    "    count = 0\n",
    "    sum = 0\n",
    "    for index, row in data.iterrows():\n",
    "        for ind, p in enumerate(players):\n",
    "                if(data.iloc[index][p] == name ):\n",
    "#                     print(name)\n",
    "                    sum = sum + data.iloc[index][player_scores[ind]] \n",
    "                    count += 1\n",
    "    avg = round((sum/count),2)\n",
    "    print(name,\" : sum=\",sum,\" , count=\",count,\" , average=\",round(avg,2))    \n",
    "    dictionary[name] = avg\n",
    "    result = result.append({'player_name':name, 'sum':sum, 'avg':avg}, ignore_index=True)\n",
    "    \n",
    "print(dictionary)"
   ]
  },
  {
   "cell_type": "code",
   "execution_count": 13,
   "metadata": {},
   "outputs": [
    {
     "data": {
      "text/html": [
       "<div>\n",
       "<style scoped>\n",
       "    .dataframe tbody tr th:only-of-type {\n",
       "        vertical-align: middle;\n",
       "    }\n",
       "\n",
       "    .dataframe tbody tr th {\n",
       "        vertical-align: top;\n",
       "    }\n",
       "\n",
       "    .dataframe thead th {\n",
       "        text-align: right;\n",
       "    }\n",
       "</style>\n",
       "<table border=\"1\" class=\"dataframe\">\n",
       "  <thead>\n",
       "    <tr style=\"text-align: right;\">\n",
       "      <th></th>\n",
       "      <th>player_name</th>\n",
       "      <th>sum</th>\n",
       "      <th>avg</th>\n",
       "    </tr>\n",
       "  </thead>\n",
       "  <tbody>\n",
       "    <tr>\n",
       "      <th>0</th>\n",
       "      <td>MW Parkinson</td>\n",
       "      <td>0</td>\n",
       "      <td>0.00</td>\n",
       "    </tr>\n",
       "    <tr>\n",
       "      <th>1</th>\n",
       "      <td>JC Buttler</td>\n",
       "      <td>2677</td>\n",
       "      <td>28.78</td>\n",
       "    </tr>\n",
       "    <tr>\n",
       "      <th>2</th>\n",
       "      <td>JC Tredwell</td>\n",
       "      <td>0</td>\n",
       "      <td>0.00</td>\n",
       "    </tr>\n",
       "    <tr>\n",
       "      <th>3</th>\n",
       "      <td>JL Denly</td>\n",
       "      <td>178</td>\n",
       "      <td>35.60</td>\n",
       "    </tr>\n",
       "    <tr>\n",
       "      <th>4</th>\n",
       "      <td>AU Rashid</td>\n",
       "      <td>579</td>\n",
       "      <td>6.29</td>\n",
       "    </tr>\n",
       "    <tr>\n",
       "      <th>5</th>\n",
       "      <td>ST Finn</td>\n",
       "      <td>29</td>\n",
       "      <td>1.45</td>\n",
       "    </tr>\n",
       "    <tr>\n",
       "      <th>6</th>\n",
       "      <td>TK Curran</td>\n",
       "      <td>292</td>\n",
       "      <td>12.70</td>\n",
       "    </tr>\n",
       "    <tr>\n",
       "      <th>7</th>\n",
       "      <td>S Mahmood</td>\n",
       "      <td>12</td>\n",
       "      <td>3.00</td>\n",
       "    </tr>\n",
       "    <tr>\n",
       "      <th>8</th>\n",
       "      <td>RJW Topley</td>\n",
       "      <td>7</td>\n",
       "      <td>0.64</td>\n",
       "    </tr>\n",
       "    <tr>\n",
       "      <th>9</th>\n",
       "      <td>MA Wood</td>\n",
       "      <td>55</td>\n",
       "      <td>1.12</td>\n",
       "    </tr>\n",
       "    <tr>\n",
       "      <th>10</th>\n",
       "      <td>LE Plunkett</td>\n",
       "      <td>252</td>\n",
       "      <td>4.75</td>\n",
       "    </tr>\n",
       "    <tr>\n",
       "      <th>11</th>\n",
       "      <td>MM Ali</td>\n",
       "      <td>1188</td>\n",
       "      <td>13.50</td>\n",
       "    </tr>\n",
       "    <tr>\n",
       "      <th>12</th>\n",
       "      <td>TS Roland-Jones</td>\n",
       "      <td>37</td>\n",
       "      <td>37.00</td>\n",
       "    </tr>\n",
       "  </tbody>\n",
       "</table>\n",
       "</div>"
      ],
      "text/plain": [
       "        player_name   sum    avg\n",
       "0      MW Parkinson     0   0.00\n",
       "1        JC Buttler  2677  28.78\n",
       "2       JC Tredwell     0   0.00\n",
       "3          JL Denly   178  35.60\n",
       "4         AU Rashid   579   6.29\n",
       "5           ST Finn    29   1.45\n",
       "6         TK Curran   292  12.70\n",
       "7         S Mahmood    12   3.00\n",
       "8        RJW Topley     7   0.64\n",
       "9           MA Wood    55   1.12\n",
       "10      LE Plunkett   252   4.75\n",
       "11           MM Ali  1188  13.50\n",
       "12  TS Roland-Jones    37  37.00"
      ]
     },
     "execution_count": 13,
     "metadata": {},
     "output_type": "execute_result"
    }
   ],
   "source": [
    "result.head(13)"
   ]
  },
  {
   "cell_type": "code",
   "execution_count": 14,
   "metadata": {},
   "outputs": [],
   "source": [
    "result.to_csv('F:/8TH SEM/CO425-FYP/England/indv_results/England_ind.csv',sep=',')\n"
   ]
  },
  {
   "cell_type": "markdown",
   "metadata": {},
   "source": [
    "# 2 grams - combinational averages Vs sum of individual averages"
   ]
  },
  {
   "cell_type": "code",
   "execution_count": 15,
   "metadata": {},
   "outputs": [],
   "source": [
    "#load data file-combinational avgs of 2-grams\n",
    "data2grams = pd.read_csv('F:/8TH SEM/CO425-FYP/England/Combined averages/England_2g.csv',sep=',')"
   ]
  },
  {
   "cell_type": "code",
   "execution_count": 16,
   "metadata": {},
   "outputs": [
    {
     "data": {
      "text/html": [
       "<div>\n",
       "<style scoped>\n",
       "    .dataframe tbody tr th:only-of-type {\n",
       "        vertical-align: middle;\n",
       "    }\n",
       "\n",
       "    .dataframe tbody tr th {\n",
       "        vertical-align: top;\n",
       "    }\n",
       "\n",
       "    .dataframe thead th {\n",
       "        text-align: right;\n",
       "    }\n",
       "</style>\n",
       "<table border=\"1\" class=\"dataframe\">\n",
       "  <thead>\n",
       "    <tr style=\"text-align: right;\">\n",
       "      <th></th>\n",
       "      <th>Unnamed: 0</th>\n",
       "      <th>player-1</th>\n",
       "      <th>player-2</th>\n",
       "      <th>avg</th>\n",
       "    </tr>\n",
       "  </thead>\n",
       "  <tbody>\n",
       "    <tr>\n",
       "      <th>0</th>\n",
       "      <td>0</td>\n",
       "      <td>TK Curran</td>\n",
       "      <td>JM Vince</td>\n",
       "      <td>56.00</td>\n",
       "    </tr>\n",
       "    <tr>\n",
       "      <th>1</th>\n",
       "      <td>1</td>\n",
       "      <td>SW Billings</td>\n",
       "      <td>JM Vince</td>\n",
       "      <td>70.75</td>\n",
       "    </tr>\n",
       "    <tr>\n",
       "      <th>2</th>\n",
       "      <td>2</td>\n",
       "      <td>LE Plunkett</td>\n",
       "      <td>JM Vince</td>\n",
       "      <td>34.25</td>\n",
       "    </tr>\n",
       "    <tr>\n",
       "      <th>3</th>\n",
       "      <td>3</td>\n",
       "      <td>JL Denly</td>\n",
       "      <td>JM Vince</td>\n",
       "      <td>43.00</td>\n",
       "    </tr>\n",
       "    <tr>\n",
       "      <th>4</th>\n",
       "      <td>4</td>\n",
       "      <td>C Overton</td>\n",
       "      <td>JM Vince</td>\n",
       "      <td>0.00</td>\n",
       "    </tr>\n",
       "  </tbody>\n",
       "</table>\n",
       "</div>"
      ],
      "text/plain": [
       "   Unnamed: 0     player-1  player-2    avg\n",
       "0           0    TK Curran  JM Vince  56.00\n",
       "1           1  SW Billings  JM Vince  70.75\n",
       "2           2  LE Plunkett  JM Vince  34.25\n",
       "3           3     JL Denly  JM Vince  43.00\n",
       "4           4    C Overton  JM Vince   0.00"
      ]
     },
     "execution_count": 16,
     "metadata": {},
     "output_type": "execute_result"
    }
   ],
   "source": [
    "data2grams.head()"
   ]
  },
  {
   "cell_type": "code",
   "execution_count": 17,
   "metadata": {},
   "outputs": [],
   "source": [
    "data2grams = data2grams[data2grams.avg != 0.0]"
   ]
  },
  {
   "cell_type": "code",
   "execution_count": 18,
   "metadata": {},
   "outputs": [
    {
     "data": {
      "text/html": [
       "<div>\n",
       "<style scoped>\n",
       "    .dataframe tbody tr th:only-of-type {\n",
       "        vertical-align: middle;\n",
       "    }\n",
       "\n",
       "    .dataframe tbody tr th {\n",
       "        vertical-align: top;\n",
       "    }\n",
       "\n",
       "    .dataframe thead th {\n",
       "        text-align: right;\n",
       "    }\n",
       "</style>\n",
       "<table border=\"1\" class=\"dataframe\">\n",
       "  <thead>\n",
       "    <tr style=\"text-align: right;\">\n",
       "      <th></th>\n",
       "      <th>Unnamed: 0</th>\n",
       "      <th>player-1</th>\n",
       "      <th>player-2</th>\n",
       "      <th>avg</th>\n",
       "    </tr>\n",
       "  </thead>\n",
       "  <tbody>\n",
       "    <tr>\n",
       "      <th>0</th>\n",
       "      <td>0</td>\n",
       "      <td>TK Curran</td>\n",
       "      <td>JM Vince</td>\n",
       "      <td>56.000</td>\n",
       "    </tr>\n",
       "    <tr>\n",
       "      <th>1</th>\n",
       "      <td>1</td>\n",
       "      <td>SW Billings</td>\n",
       "      <td>JM Vince</td>\n",
       "      <td>70.750</td>\n",
       "    </tr>\n",
       "    <tr>\n",
       "      <th>2</th>\n",
       "      <td>2</td>\n",
       "      <td>LE Plunkett</td>\n",
       "      <td>JM Vince</td>\n",
       "      <td>34.250</td>\n",
       "    </tr>\n",
       "    <tr>\n",
       "      <th>3</th>\n",
       "      <td>3</td>\n",
       "      <td>JL Denly</td>\n",
       "      <td>JM Vince</td>\n",
       "      <td>43.000</td>\n",
       "    </tr>\n",
       "    <tr>\n",
       "      <th>7</th>\n",
       "      <td>7</td>\n",
       "      <td>JM Vince</td>\n",
       "      <td>JE Root</td>\n",
       "      <td>85.625</td>\n",
       "    </tr>\n",
       "  </tbody>\n",
       "</table>\n",
       "</div>"
      ],
      "text/plain": [
       "   Unnamed: 0     player-1  player-2     avg\n",
       "0           0    TK Curran  JM Vince  56.000\n",
       "1           1  SW Billings  JM Vince  70.750\n",
       "2           2  LE Plunkett  JM Vince  34.250\n",
       "3           3     JL Denly  JM Vince  43.000\n",
       "7           7     JM Vince   JE Root  85.625"
      ]
     },
     "execution_count": 18,
     "metadata": {},
     "output_type": "execute_result"
    }
   ],
   "source": [
    "data2grams.head()"
   ]
  },
  {
   "cell_type": "code",
   "execution_count": 19,
   "metadata": {},
   "outputs": [
    {
     "data": {
      "text/plain": [
       "(413, 4)"
      ]
     },
     "execution_count": 19,
     "metadata": {},
     "output_type": "execute_result"
    }
   ],
   "source": [
    "data2grams.shape"
   ]
  },
  {
   "cell_type": "code",
   "execution_count": 20,
   "metadata": {},
   "outputs": [],
   "source": [
    "data2grams = data2grams.reset_index(drop=True)"
   ]
  },
  {
   "cell_type": "code",
   "execution_count": 21,
   "metadata": {},
   "outputs": [
    {
     "data": {
      "text/html": [
       "<div>\n",
       "<style scoped>\n",
       "    .dataframe tbody tr th:only-of-type {\n",
       "        vertical-align: middle;\n",
       "    }\n",
       "\n",
       "    .dataframe tbody tr th {\n",
       "        vertical-align: top;\n",
       "    }\n",
       "\n",
       "    .dataframe thead th {\n",
       "        text-align: right;\n",
       "    }\n",
       "</style>\n",
       "<table border=\"1\" class=\"dataframe\">\n",
       "  <thead>\n",
       "    <tr style=\"text-align: right;\">\n",
       "      <th></th>\n",
       "      <th>Unnamed: 0</th>\n",
       "      <th>player-1</th>\n",
       "      <th>player-2</th>\n",
       "      <th>avg</th>\n",
       "    </tr>\n",
       "  </thead>\n",
       "  <tbody>\n",
       "    <tr>\n",
       "      <th>0</th>\n",
       "      <td>0</td>\n",
       "      <td>TK Curran</td>\n",
       "      <td>JM Vince</td>\n",
       "      <td>56.000</td>\n",
       "    </tr>\n",
       "    <tr>\n",
       "      <th>1</th>\n",
       "      <td>1</td>\n",
       "      <td>SW Billings</td>\n",
       "      <td>JM Vince</td>\n",
       "      <td>70.750</td>\n",
       "    </tr>\n",
       "    <tr>\n",
       "      <th>2</th>\n",
       "      <td>2</td>\n",
       "      <td>LE Plunkett</td>\n",
       "      <td>JM Vince</td>\n",
       "      <td>34.250</td>\n",
       "    </tr>\n",
       "    <tr>\n",
       "      <th>3</th>\n",
       "      <td>3</td>\n",
       "      <td>JL Denly</td>\n",
       "      <td>JM Vince</td>\n",
       "      <td>43.000</td>\n",
       "    </tr>\n",
       "    <tr>\n",
       "      <th>4</th>\n",
       "      <td>7</td>\n",
       "      <td>JM Vince</td>\n",
       "      <td>JE Root</td>\n",
       "      <td>85.625</td>\n",
       "    </tr>\n",
       "  </tbody>\n",
       "</table>\n",
       "</div>"
      ],
      "text/plain": [
       "   Unnamed: 0     player-1  player-2     avg\n",
       "0           0    TK Curran  JM Vince  56.000\n",
       "1           1  SW Billings  JM Vince  70.750\n",
       "2           2  LE Plunkett  JM Vince  34.250\n",
       "3           3     JL Denly  JM Vince  43.000\n",
       "4           7     JM Vince   JE Root  85.625"
      ]
     },
     "execution_count": 21,
     "metadata": {},
     "output_type": "execute_result"
    }
   ],
   "source": [
    "data2grams.head()"
   ]
  },
  {
   "cell_type": "code",
   "execution_count": 22,
   "metadata": {},
   "outputs": [],
   "source": [
    "new_column_names = [\"player-1\", \"player-2\", \"combined_avg\",\"sum_of_individual\"]\n",
    "\n",
    "comparison_2grams = pd.DataFrame(columns = new_column_names)"
   ]
  },
  {
   "cell_type": "code",
   "execution_count": 23,
   "metadata": {},
   "outputs": [],
   "source": [
    "for index, row in data2grams.iterrows():\n",
    "    player1 = data2grams.iloc[index]['player-1']\n",
    "    player2 = data2grams.iloc[index]['player-2']\n",
    "    combined = data2grams.iloc[index]['avg']\n",
    "    individual_avg_sum = dictionary.get(player1)+dictionary.get(player2)\n",
    "    if(combined > individual_avg_sum):\n",
    "        comparison_2grams = comparison_2grams.append({'player-1':player1, 'player-2':player2, 'combined_avg': combined, 'sum_of_individual':individual_avg_sum}, ignore_index=True)"
   ]
  },
  {
   "cell_type": "code",
   "execution_count": 24,
   "metadata": {},
   "outputs": [
    {
     "data": {
      "text/html": [
       "<div>\n",
       "<style scoped>\n",
       "    .dataframe tbody tr th:only-of-type {\n",
       "        vertical-align: middle;\n",
       "    }\n",
       "\n",
       "    .dataframe tbody tr th {\n",
       "        vertical-align: top;\n",
       "    }\n",
       "\n",
       "    .dataframe thead th {\n",
       "        text-align: right;\n",
       "    }\n",
       "</style>\n",
       "<table border=\"1\" class=\"dataframe\">\n",
       "  <thead>\n",
       "    <tr style=\"text-align: right;\">\n",
       "      <th></th>\n",
       "      <th>player-1</th>\n",
       "      <th>player-2</th>\n",
       "      <th>combined_avg</th>\n",
       "      <th>sum_of_individual</th>\n",
       "    </tr>\n",
       "  </thead>\n",
       "  <tbody>\n",
       "    <tr>\n",
       "      <th>0</th>\n",
       "      <td>TK Curran</td>\n",
       "      <td>JM Vince</td>\n",
       "      <td>56.000</td>\n",
       "      <td>35.70</td>\n",
       "    </tr>\n",
       "    <tr>\n",
       "      <th>1</th>\n",
       "      <td>SW Billings</td>\n",
       "      <td>JM Vince</td>\n",
       "      <td>70.750</td>\n",
       "      <td>51.70</td>\n",
       "    </tr>\n",
       "    <tr>\n",
       "      <th>2</th>\n",
       "      <td>LE Plunkett</td>\n",
       "      <td>JM Vince</td>\n",
       "      <td>34.250</td>\n",
       "      <td>27.75</td>\n",
       "    </tr>\n",
       "    <tr>\n",
       "      <th>3</th>\n",
       "      <td>JM Vince</td>\n",
       "      <td>JE Root</td>\n",
       "      <td>85.625</td>\n",
       "      <td>68.72</td>\n",
       "    </tr>\n",
       "    <tr>\n",
       "      <th>4</th>\n",
       "      <td>CJ Jordan</td>\n",
       "      <td>JM Vince</td>\n",
       "      <td>51.000</td>\n",
       "      <td>27.23</td>\n",
       "    </tr>\n",
       "  </tbody>\n",
       "</table>\n",
       "</div>"
      ],
      "text/plain": [
       "      player-1  player-2  combined_avg  sum_of_individual\n",
       "0    TK Curran  JM Vince        56.000              35.70\n",
       "1  SW Billings  JM Vince        70.750              51.70\n",
       "2  LE Plunkett  JM Vince        34.250              27.75\n",
       "3     JM Vince   JE Root        85.625              68.72\n",
       "4    CJ Jordan  JM Vince        51.000              27.23"
      ]
     },
     "execution_count": 24,
     "metadata": {},
     "output_type": "execute_result"
    }
   ],
   "source": [
    "comparison_2grams.head()"
   ]
  },
  {
   "cell_type": "code",
   "execution_count": 25,
   "metadata": {},
   "outputs": [
    {
     "data": {
      "text/plain": [
       "(194, 4)"
      ]
     },
     "execution_count": 25,
     "metadata": {},
     "output_type": "execute_result"
    }
   ],
   "source": [
    "comparison_2grams.shape"
   ]
  },
  {
   "cell_type": "code",
   "execution_count": 26,
   "metadata": {},
   "outputs": [],
   "source": [
    "comparison_2grams.to_csv('F:/8TH SEM/CO425-FYP/England/Comparative analysis/England_comparison_2grams.csv')"
   ]
  },
  {
   "cell_type": "markdown",
   "metadata": {},
   "source": [
    "# 3 grams - combinational averages Vs sum of individual averages"
   ]
  },
  {
   "cell_type": "code",
   "execution_count": 27,
   "metadata": {},
   "outputs": [],
   "source": [
    "#load data file-combinational avgs of 3-grams\n",
    "data3grams = pd.read_csv('F:/8TH SEM/CO425-FYP/England/Combined averages/England_3g.csv',sep=',')"
   ]
  },
  {
   "cell_type": "code",
   "execution_count": 28,
   "metadata": {},
   "outputs": [
    {
     "data": {
      "text/html": [
       "<div>\n",
       "<style scoped>\n",
       "    .dataframe tbody tr th:only-of-type {\n",
       "        vertical-align: middle;\n",
       "    }\n",
       "\n",
       "    .dataframe tbody tr th {\n",
       "        vertical-align: top;\n",
       "    }\n",
       "\n",
       "    .dataframe thead th {\n",
       "        text-align: right;\n",
       "    }\n",
       "</style>\n",
       "<table border=\"1\" class=\"dataframe\">\n",
       "  <thead>\n",
       "    <tr style=\"text-align: right;\">\n",
       "      <th></th>\n",
       "      <th>Unnamed: 0</th>\n",
       "      <th>player-1</th>\n",
       "      <th>player-2</th>\n",
       "      <th>player-3</th>\n",
       "      <th>avg</th>\n",
       "    </tr>\n",
       "  </thead>\n",
       "  <tbody>\n",
       "    <tr>\n",
       "      <th>0</th>\n",
       "      <td>0</td>\n",
       "      <td>SW Billings</td>\n",
       "      <td>SCJ Broad</td>\n",
       "      <td>JC Tredwell</td>\n",
       "      <td>0.0</td>\n",
       "    </tr>\n",
       "    <tr>\n",
       "      <th>1</th>\n",
       "      <td>1</td>\n",
       "      <td>SW Billings</td>\n",
       "      <td>JC Tredwell</td>\n",
       "      <td>LE Plunkett</td>\n",
       "      <td>0.0</td>\n",
       "    </tr>\n",
       "    <tr>\n",
       "      <th>2</th>\n",
       "      <td>2</td>\n",
       "      <td>SW Billings</td>\n",
       "      <td>JC Tredwell</td>\n",
       "      <td>JM Bairstow</td>\n",
       "      <td>0.0</td>\n",
       "    </tr>\n",
       "    <tr>\n",
       "      <th>3</th>\n",
       "      <td>3</td>\n",
       "      <td>SW Billings</td>\n",
       "      <td>JC Archer</td>\n",
       "      <td>JC Tredwell</td>\n",
       "      <td>0.0</td>\n",
       "    </tr>\n",
       "    <tr>\n",
       "      <th>4</th>\n",
       "      <td>4</td>\n",
       "      <td>SW Billings</td>\n",
       "      <td>JL Denly</td>\n",
       "      <td>JC Tredwell</td>\n",
       "      <td>0.0</td>\n",
       "    </tr>\n",
       "  </tbody>\n",
       "</table>\n",
       "</div>"
      ],
      "text/plain": [
       "   Unnamed: 0     player-1     player-2     player-3  avg\n",
       "0           0  SW Billings    SCJ Broad  JC Tredwell  0.0\n",
       "1           1  SW Billings  JC Tredwell  LE Plunkett  0.0\n",
       "2           2  SW Billings  JC Tredwell  JM Bairstow  0.0\n",
       "3           3  SW Billings    JC Archer  JC Tredwell  0.0\n",
       "4           4  SW Billings     JL Denly  JC Tredwell  0.0"
      ]
     },
     "execution_count": 28,
     "metadata": {},
     "output_type": "execute_result"
    }
   ],
   "source": [
    "data3grams.head()"
   ]
  },
  {
   "cell_type": "code",
   "execution_count": 30,
   "metadata": {},
   "outputs": [
    {
     "data": {
      "text/plain": [
       "(9880, 5)"
      ]
     },
     "execution_count": 30,
     "metadata": {},
     "output_type": "execute_result"
    }
   ],
   "source": [
    "data3grams.shape"
   ]
  },
  {
   "cell_type": "code",
   "execution_count": 31,
   "metadata": {},
   "outputs": [],
   "source": [
    "data3grams = data3grams[data3grams.avg != 0.0]"
   ]
  },
  {
   "cell_type": "code",
   "execution_count": 32,
   "metadata": {},
   "outputs": [
    {
     "data": {
      "text/plain": [
       "(2178, 5)"
      ]
     },
     "execution_count": 32,
     "metadata": {},
     "output_type": "execute_result"
    }
   ],
   "source": [
    "data3grams.shape"
   ]
  },
  {
   "cell_type": "code",
   "execution_count": 33,
   "metadata": {},
   "outputs": [],
   "source": [
    "data3grams = data3grams.reset_index(drop=True)"
   ]
  },
  {
   "cell_type": "code",
   "execution_count": 34,
   "metadata": {},
   "outputs": [
    {
     "data": {
      "text/html": [
       "<div>\n",
       "<style scoped>\n",
       "    .dataframe tbody tr th:only-of-type {\n",
       "        vertical-align: middle;\n",
       "    }\n",
       "\n",
       "    .dataframe tbody tr th {\n",
       "        vertical-align: top;\n",
       "    }\n",
       "\n",
       "    .dataframe thead th {\n",
       "        text-align: right;\n",
       "    }\n",
       "</style>\n",
       "<table border=\"1\" class=\"dataframe\">\n",
       "  <thead>\n",
       "    <tr style=\"text-align: right;\">\n",
       "      <th></th>\n",
       "      <th>Unnamed: 0</th>\n",
       "      <th>player-1</th>\n",
       "      <th>player-2</th>\n",
       "      <th>player-3</th>\n",
       "      <th>avg</th>\n",
       "    </tr>\n",
       "  </thead>\n",
       "  <tbody>\n",
       "    <tr>\n",
       "      <th>0</th>\n",
       "      <td>75</td>\n",
       "      <td>SW Billings</td>\n",
       "      <td>JM Bairstow</td>\n",
       "      <td>LE Plunkett</td>\n",
       "      <td>70.571429</td>\n",
       "    </tr>\n",
       "    <tr>\n",
       "      <th>1</th>\n",
       "      <td>81</td>\n",
       "      <td>SW Billings</td>\n",
       "      <td>JJ Roy</td>\n",
       "      <td>LE Plunkett</td>\n",
       "      <td>67.000000</td>\n",
       "    </tr>\n",
       "    <tr>\n",
       "      <th>2</th>\n",
       "      <td>82</td>\n",
       "      <td>SW Billings</td>\n",
       "      <td>JE Root</td>\n",
       "      <td>LE Plunkett</td>\n",
       "      <td>61.444444</td>\n",
       "    </tr>\n",
       "    <tr>\n",
       "      <th>3</th>\n",
       "      <td>83</td>\n",
       "      <td>SW Billings</td>\n",
       "      <td>BM Duckett</td>\n",
       "      <td>LE Plunkett</td>\n",
       "      <td>125.000000</td>\n",
       "    </tr>\n",
       "    <tr>\n",
       "      <th>4</th>\n",
       "      <td>84</td>\n",
       "      <td>SW Billings</td>\n",
       "      <td>AU Rashid</td>\n",
       "      <td>LE Plunkett</td>\n",
       "      <td>34.900000</td>\n",
       "    </tr>\n",
       "  </tbody>\n",
       "</table>\n",
       "</div>"
      ],
      "text/plain": [
       "   Unnamed: 0     player-1     player-2     player-3         avg\n",
       "0          75  SW Billings  JM Bairstow  LE Plunkett   70.571429\n",
       "1          81  SW Billings       JJ Roy  LE Plunkett   67.000000\n",
       "2          82  SW Billings      JE Root  LE Plunkett   61.444444\n",
       "3          83  SW Billings   BM Duckett  LE Plunkett  125.000000\n",
       "4          84  SW Billings    AU Rashid  LE Plunkett   34.900000"
      ]
     },
     "execution_count": 34,
     "metadata": {},
     "output_type": "execute_result"
    }
   ],
   "source": [
    "data3grams.head()"
   ]
  },
  {
   "cell_type": "code",
   "execution_count": 35,
   "metadata": {},
   "outputs": [],
   "source": [
    "new_column_names = [\"player-1\", \"player-2\", \"player-3\", \"combined_avg\",\"sum_of_individual\"]\n",
    "\n",
    "comparison_3grams = pd.DataFrame(columns = new_column_names)"
   ]
  },
  {
   "cell_type": "code",
   "execution_count": 36,
   "metadata": {},
   "outputs": [],
   "source": [
    "for index, row in data3grams.iterrows():\n",
    "    player1 = data3grams.iloc[index]['player-1']\n",
    "    player2 = data3grams.iloc[index]['player-2']\n",
    "    player3 = data3grams.iloc[index]['player-3']\n",
    "    combined = data3grams.iloc[index]['avg']\n",
    "    individual_avg_sum = dictionary.get(player1)+dictionary.get(player2)+dictionary.get(player3)\n",
    "    if(combined > individual_avg_sum):\n",
    "        comparison_3grams = comparison_3grams.append({'player-1':player1, 'player-2':player2,'player-3':player3, 'combined_avg': combined, 'sum_of_individual':individual_avg_sum}, ignore_index=True)"
   ]
  },
  {
   "cell_type": "code",
   "execution_count": 37,
   "metadata": {},
   "outputs": [
    {
     "data": {
      "text/html": [
       "<div>\n",
       "<style scoped>\n",
       "    .dataframe tbody tr th:only-of-type {\n",
       "        vertical-align: middle;\n",
       "    }\n",
       "\n",
       "    .dataframe tbody tr th {\n",
       "        vertical-align: top;\n",
       "    }\n",
       "\n",
       "    .dataframe thead th {\n",
       "        text-align: right;\n",
       "    }\n",
       "</style>\n",
       "<table border=\"1\" class=\"dataframe\">\n",
       "  <thead>\n",
       "    <tr style=\"text-align: right;\">\n",
       "      <th></th>\n",
       "      <th>player-1</th>\n",
       "      <th>player-2</th>\n",
       "      <th>player-3</th>\n",
       "      <th>combined_avg</th>\n",
       "      <th>sum_of_individual</th>\n",
       "    </tr>\n",
       "  </thead>\n",
       "  <tbody>\n",
       "    <tr>\n",
       "      <th>0</th>\n",
       "      <td>SW Billings</td>\n",
       "      <td>BM Duckett</td>\n",
       "      <td>LE Plunkett</td>\n",
       "      <td>125.000000</td>\n",
       "      <td>74.45</td>\n",
       "    </tr>\n",
       "    <tr>\n",
       "      <th>1</th>\n",
       "      <td>SW Billings</td>\n",
       "      <td>CJ Jordan</td>\n",
       "      <td>LE Plunkett</td>\n",
       "      <td>38.500000</td>\n",
       "      <td>37.68</td>\n",
       "    </tr>\n",
       "    <tr>\n",
       "      <th>2</th>\n",
       "      <td>SW Billings</td>\n",
       "      <td>CR Woakes</td>\n",
       "      <td>LE Plunkett</td>\n",
       "      <td>56.200000</td>\n",
       "      <td>46.39</td>\n",
       "    </tr>\n",
       "    <tr>\n",
       "      <th>3</th>\n",
       "      <td>SW Billings</td>\n",
       "      <td>JM Vince</td>\n",
       "      <td>LE Plunkett</td>\n",
       "      <td>94.000000</td>\n",
       "      <td>56.45</td>\n",
       "    </tr>\n",
       "    <tr>\n",
       "      <th>4</th>\n",
       "      <td>SW Billings</td>\n",
       "      <td>JC Buttler</td>\n",
       "      <td>LE Plunkett</td>\n",
       "      <td>65.555556</td>\n",
       "      <td>62.23</td>\n",
       "    </tr>\n",
       "  </tbody>\n",
       "</table>\n",
       "</div>"
      ],
      "text/plain": [
       "      player-1    player-2     player-3  combined_avg  sum_of_individual\n",
       "0  SW Billings  BM Duckett  LE Plunkett    125.000000              74.45\n",
       "1  SW Billings   CJ Jordan  LE Plunkett     38.500000              37.68\n",
       "2  SW Billings   CR Woakes  LE Plunkett     56.200000              46.39\n",
       "3  SW Billings    JM Vince  LE Plunkett     94.000000              56.45\n",
       "4  SW Billings  JC Buttler  LE Plunkett     65.555556              62.23"
      ]
     },
     "execution_count": 37,
     "metadata": {},
     "output_type": "execute_result"
    }
   ],
   "source": [
    "comparison_3grams.head()"
   ]
  },
  {
   "cell_type": "code",
   "execution_count": 38,
   "metadata": {},
   "outputs": [
    {
     "data": {
      "text/plain": [
       "(993, 5)"
      ]
     },
     "execution_count": 38,
     "metadata": {},
     "output_type": "execute_result"
    }
   ],
   "source": [
    "comparison_3grams.shape"
   ]
  },
  {
   "cell_type": "code",
   "execution_count": 39,
   "metadata": {},
   "outputs": [],
   "source": [
    "comparison_3grams.to_csv('F:/8TH SEM/CO425-FYP/England/Comparative analysis/England_comparison_3grams.csv')"
   ]
  },
  {
   "cell_type": "markdown",
   "metadata": {},
   "source": [
    "# 4 grams - combinational averages Vs sum of individual averages"
   ]
  },
  {
   "cell_type": "code",
   "execution_count": 40,
   "metadata": {},
   "outputs": [],
   "source": [
    "#load data file-combinational avgs of 4-grams\n",
    "data4grams = pd.read_csv('F:/8TH SEM/CO425-FYP/England/Combined averages/England_4g.csv',sep=',')"
   ]
  },
  {
   "cell_type": "code",
   "execution_count": 41,
   "metadata": {},
   "outputs": [
    {
     "data": {
      "text/html": [
       "<div>\n",
       "<style scoped>\n",
       "    .dataframe tbody tr th:only-of-type {\n",
       "        vertical-align: middle;\n",
       "    }\n",
       "\n",
       "    .dataframe tbody tr th {\n",
       "        vertical-align: top;\n",
       "    }\n",
       "\n",
       "    .dataframe thead th {\n",
       "        text-align: right;\n",
       "    }\n",
       "</style>\n",
       "<table border=\"1\" class=\"dataframe\">\n",
       "  <thead>\n",
       "    <tr style=\"text-align: right;\">\n",
       "      <th></th>\n",
       "      <th>Unnamed: 0</th>\n",
       "      <th>player-1</th>\n",
       "      <th>player-2</th>\n",
       "      <th>player-3</th>\n",
       "      <th>player-4</th>\n",
       "      <th>avg</th>\n",
       "    </tr>\n",
       "  </thead>\n",
       "  <tbody>\n",
       "    <tr>\n",
       "      <th>0</th>\n",
       "      <td>0</td>\n",
       "      <td>TS Roland-Jones</td>\n",
       "      <td>DJ Willey</td>\n",
       "      <td>CR Woakes</td>\n",
       "      <td>JC Buttler</td>\n",
       "      <td>0.0</td>\n",
       "    </tr>\n",
       "    <tr>\n",
       "      <th>1</th>\n",
       "      <td>1</td>\n",
       "      <td>TS Roland-Jones</td>\n",
       "      <td>DJ Willey</td>\n",
       "      <td>JWA Taylor</td>\n",
       "      <td>CR Woakes</td>\n",
       "      <td>0.0</td>\n",
       "    </tr>\n",
       "    <tr>\n",
       "      <th>2</th>\n",
       "      <td>2</td>\n",
       "      <td>TS Roland-Jones</td>\n",
       "      <td>DJ Willey</td>\n",
       "      <td>CR Woakes</td>\n",
       "      <td>LA Dawson</td>\n",
       "      <td>0.0</td>\n",
       "    </tr>\n",
       "    <tr>\n",
       "      <th>3</th>\n",
       "      <td>3</td>\n",
       "      <td>TS Roland-Jones</td>\n",
       "      <td>DJ Willey</td>\n",
       "      <td>AU Rashid</td>\n",
       "      <td>CR Woakes</td>\n",
       "      <td>0.0</td>\n",
       "    </tr>\n",
       "    <tr>\n",
       "      <th>4</th>\n",
       "      <td>4</td>\n",
       "      <td>TS Roland-Jones</td>\n",
       "      <td>DJ Willey</td>\n",
       "      <td>CR Woakes</td>\n",
       "      <td>EJG Morgan</td>\n",
       "      <td>0.0</td>\n",
       "    </tr>\n",
       "  </tbody>\n",
       "</table>\n",
       "</div>"
      ],
      "text/plain": [
       "   Unnamed: 0         player-1   player-2    player-3    player-4  avg\n",
       "0           0  TS Roland-Jones  DJ Willey   CR Woakes  JC Buttler  0.0\n",
       "1           1  TS Roland-Jones  DJ Willey  JWA Taylor   CR Woakes  0.0\n",
       "2           2  TS Roland-Jones  DJ Willey   CR Woakes   LA Dawson  0.0\n",
       "3           3  TS Roland-Jones  DJ Willey   AU Rashid   CR Woakes  0.0\n",
       "4           4  TS Roland-Jones  DJ Willey   CR Woakes  EJG Morgan  0.0"
      ]
     },
     "execution_count": 41,
     "metadata": {},
     "output_type": "execute_result"
    }
   ],
   "source": [
    "data4grams.head()"
   ]
  },
  {
   "cell_type": "code",
   "execution_count": 42,
   "metadata": {},
   "outputs": [
    {
     "data": {
      "text/plain": [
       "(91390, 6)"
      ]
     },
     "execution_count": 42,
     "metadata": {},
     "output_type": "execute_result"
    }
   ],
   "source": [
    "data4grams.shape"
   ]
  },
  {
   "cell_type": "code",
   "execution_count": 43,
   "metadata": {},
   "outputs": [],
   "source": [
    "data4grams = data4grams[data4grams.avg != 0.0]"
   ]
  },
  {
   "cell_type": "code",
   "execution_count": 44,
   "metadata": {},
   "outputs": [
    {
     "data": {
      "text/plain": [
       "(6652, 6)"
      ]
     },
     "execution_count": 44,
     "metadata": {},
     "output_type": "execute_result"
    }
   ],
   "source": [
    "data4grams.shape"
   ]
  },
  {
   "cell_type": "code",
   "execution_count": 45,
   "metadata": {},
   "outputs": [],
   "source": [
    "data4grams = data4grams.reset_index(drop=True)"
   ]
  },
  {
   "cell_type": "code",
   "execution_count": 46,
   "metadata": {},
   "outputs": [
    {
     "data": {
      "text/html": [
       "<div>\n",
       "<style scoped>\n",
       "    .dataframe tbody tr th:only-of-type {\n",
       "        vertical-align: middle;\n",
       "    }\n",
       "\n",
       "    .dataframe tbody tr th {\n",
       "        vertical-align: top;\n",
       "    }\n",
       "\n",
       "    .dataframe thead th {\n",
       "        text-align: right;\n",
       "    }\n",
       "</style>\n",
       "<table border=\"1\" class=\"dataframe\">\n",
       "  <thead>\n",
       "    <tr style=\"text-align: right;\">\n",
       "      <th></th>\n",
       "      <th>Unnamed: 0</th>\n",
       "      <th>player-1</th>\n",
       "      <th>player-2</th>\n",
       "      <th>player-3</th>\n",
       "      <th>player-4</th>\n",
       "      <th>avg</th>\n",
       "    </tr>\n",
       "  </thead>\n",
       "  <tbody>\n",
       "    <tr>\n",
       "      <th>0</th>\n",
       "      <td>39</td>\n",
       "      <td>TS Roland-Jones</td>\n",
       "      <td>DJ Willey</td>\n",
       "      <td>AU Rashid</td>\n",
       "      <td>JC Buttler</td>\n",
       "      <td>67.0</td>\n",
       "    </tr>\n",
       "    <tr>\n",
       "      <th>1</th>\n",
       "      <td>40</td>\n",
       "      <td>TS Roland-Jones</td>\n",
       "      <td>DJ Willey</td>\n",
       "      <td>EJG Morgan</td>\n",
       "      <td>JC Buttler</td>\n",
       "      <td>75.0</td>\n",
       "    </tr>\n",
       "    <tr>\n",
       "      <th>2</th>\n",
       "      <td>51</td>\n",
       "      <td>TS Roland-Jones</td>\n",
       "      <td>DJ Willey</td>\n",
       "      <td>JM Bairstow</td>\n",
       "      <td>JC Buttler</td>\n",
       "      <td>118.0</td>\n",
       "    </tr>\n",
       "    <tr>\n",
       "      <th>3</th>\n",
       "      <td>52</td>\n",
       "      <td>TS Roland-Jones</td>\n",
       "      <td>DJ Willey</td>\n",
       "      <td>JT Ball</td>\n",
       "      <td>JC Buttler</td>\n",
       "      <td>74.0</td>\n",
       "    </tr>\n",
       "    <tr>\n",
       "      <th>4</th>\n",
       "      <td>54</td>\n",
       "      <td>TS Roland-Jones</td>\n",
       "      <td>DJ Willey</td>\n",
       "      <td>AD Hales</td>\n",
       "      <td>JC Buttler</td>\n",
       "      <td>68.0</td>\n",
       "    </tr>\n",
       "  </tbody>\n",
       "</table>\n",
       "</div>"
      ],
      "text/plain": [
       "   Unnamed: 0         player-1   player-2     player-3    player-4    avg\n",
       "0          39  TS Roland-Jones  DJ Willey    AU Rashid  JC Buttler   67.0\n",
       "1          40  TS Roland-Jones  DJ Willey   EJG Morgan  JC Buttler   75.0\n",
       "2          51  TS Roland-Jones  DJ Willey  JM Bairstow  JC Buttler  118.0\n",
       "3          52  TS Roland-Jones  DJ Willey      JT Ball  JC Buttler   74.0\n",
       "4          54  TS Roland-Jones  DJ Willey     AD Hales  JC Buttler   68.0"
      ]
     },
     "execution_count": 46,
     "metadata": {},
     "output_type": "execute_result"
    }
   ],
   "source": [
    "data4grams.head()"
   ]
  },
  {
   "cell_type": "code",
   "execution_count": 47,
   "metadata": {},
   "outputs": [],
   "source": [
    "new_column_names = [\"player-1\", \"player-2\", \"player-3\", \"player-4\", \"combined_avg\",\"sum_of_individual\"]\n",
    "\n",
    "comparison_4grams = pd.DataFrame(columns = new_column_names)"
   ]
  },
  {
   "cell_type": "code",
   "execution_count": 48,
   "metadata": {},
   "outputs": [],
   "source": [
    "for index, row in data4grams.iterrows():\n",
    "    player1 = data4grams.iloc[index]['player-1']\n",
    "    player2 = data4grams.iloc[index]['player-2']\n",
    "    player3 = data4grams.iloc[index]['player-3']\n",
    "    player4 = data4grams.iloc[index]['player-4']\n",
    "    combined = data4grams.iloc[index]['avg']\n",
    "    individual_avg_sum = dictionary.get(player1)+dictionary.get(player2)+dictionary.get(player3)+dictionary.get(player4)\n",
    "    if(combined > individual_avg_sum):\n",
    "        comparison_4grams = comparison_4grams.append({'player-1':player1, 'player-2':player2,'player-3':player3, 'player-4':player4,'combined_avg': combined, 'sum_of_individual':individual_avg_sum}, ignore_index=True)"
   ]
  },
  {
   "cell_type": "code",
   "execution_count": 49,
   "metadata": {},
   "outputs": [
    {
     "data": {
      "text/html": [
       "<div>\n",
       "<style scoped>\n",
       "    .dataframe tbody tr th:only-of-type {\n",
       "        vertical-align: middle;\n",
       "    }\n",
       "\n",
       "    .dataframe tbody tr th {\n",
       "        vertical-align: top;\n",
       "    }\n",
       "\n",
       "    .dataframe thead th {\n",
       "        text-align: right;\n",
       "    }\n",
       "</style>\n",
       "<table border=\"1\" class=\"dataframe\">\n",
       "  <thead>\n",
       "    <tr style=\"text-align: right;\">\n",
       "      <th></th>\n",
       "      <th>player-1</th>\n",
       "      <th>player-2</th>\n",
       "      <th>player-3</th>\n",
       "      <th>player-4</th>\n",
       "      <th>combined_avg</th>\n",
       "      <th>sum_of_individual</th>\n",
       "    </tr>\n",
       "  </thead>\n",
       "  <tbody>\n",
       "    <tr>\n",
       "      <th>0</th>\n",
       "      <td>TS Roland-Jones</td>\n",
       "      <td>DJ Willey</td>\n",
       "      <td>JM Bairstow</td>\n",
       "      <td>AU Rashid</td>\n",
       "      <td>114.0</td>\n",
       "      <td>95.63</td>\n",
       "    </tr>\n",
       "    <tr>\n",
       "      <th>1</th>\n",
       "      <td>TS Roland-Jones</td>\n",
       "      <td>DJ Willey</td>\n",
       "      <td>AU Rashid</td>\n",
       "      <td>JT Ball</td>\n",
       "      <td>70.0</td>\n",
       "      <td>53.65</td>\n",
       "    </tr>\n",
       "    <tr>\n",
       "      <th>2</th>\n",
       "      <td>TS Roland-Jones</td>\n",
       "      <td>DJ Willey</td>\n",
       "      <td>AU Rashid</td>\n",
       "      <td>ST Finn</td>\n",
       "      <td>66.0</td>\n",
       "      <td>52.99</td>\n",
       "    </tr>\n",
       "    <tr>\n",
       "      <th>3</th>\n",
       "      <td>TS Roland-Jones</td>\n",
       "      <td>DJ Willey</td>\n",
       "      <td>JM Bairstow</td>\n",
       "      <td>JT Ball</td>\n",
       "      <td>121.0</td>\n",
       "      <td>91.45</td>\n",
       "    </tr>\n",
       "    <tr>\n",
       "      <th>4</th>\n",
       "      <td>TS Roland-Jones</td>\n",
       "      <td>DJ Willey</td>\n",
       "      <td>JM Bairstow</td>\n",
       "      <td>ST Finn</td>\n",
       "      <td>117.0</td>\n",
       "      <td>90.79</td>\n",
       "    </tr>\n",
       "  </tbody>\n",
       "</table>\n",
       "</div>"
      ],
      "text/plain": [
       "          player-1   player-2     player-3   player-4  combined_avg  \\\n",
       "0  TS Roland-Jones  DJ Willey  JM Bairstow  AU Rashid         114.0   \n",
       "1  TS Roland-Jones  DJ Willey    AU Rashid    JT Ball          70.0   \n",
       "2  TS Roland-Jones  DJ Willey    AU Rashid    ST Finn          66.0   \n",
       "3  TS Roland-Jones  DJ Willey  JM Bairstow    JT Ball         121.0   \n",
       "4  TS Roland-Jones  DJ Willey  JM Bairstow    ST Finn         117.0   \n",
       "\n",
       "   sum_of_individual  \n",
       "0              95.63  \n",
       "1              53.65  \n",
       "2              52.99  \n",
       "3              91.45  \n",
       "4              90.79  "
      ]
     },
     "execution_count": 49,
     "metadata": {},
     "output_type": "execute_result"
    }
   ],
   "source": [
    "comparison_4grams.head()"
   ]
  },
  {
   "cell_type": "code",
   "execution_count": 50,
   "metadata": {},
   "outputs": [
    {
     "data": {
      "text/plain": [
       "(3019, 6)"
      ]
     },
     "execution_count": 50,
     "metadata": {},
     "output_type": "execute_result"
    }
   ],
   "source": [
    "comparison_4grams.shape"
   ]
  },
  {
   "cell_type": "code",
   "execution_count": 51,
   "metadata": {},
   "outputs": [],
   "source": [
    "comparison_4grams.to_csv('F:/8TH SEM/CO425-FYP/England/Comparative analysis/England_comparison_4grams.csv')"
   ]
  },
  {
   "cell_type": "code",
   "execution_count": null,
   "metadata": {},
   "outputs": [],
   "source": []
  }
 ],
 "metadata": {
  "kernelspec": {
   "display_name": "Python 3",
   "language": "python",
   "name": "python3"
  },
  "language_info": {
   "codemirror_mode": {
    "name": "ipython",
    "version": 3
   },
   "file_extension": ".py",
   "mimetype": "text/x-python",
   "name": "python",
   "nbconvert_exporter": "python",
   "pygments_lexer": "ipython3",
   "version": "3.8.2"
  }
 },
 "nbformat": 4,
 "nbformat_minor": 4
}
